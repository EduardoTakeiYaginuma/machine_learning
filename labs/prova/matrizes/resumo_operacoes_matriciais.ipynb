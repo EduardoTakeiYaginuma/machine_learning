{
 "cells": [
  {
   "cell_type": "markdown",
   "metadata": {},
   "source": [
    "# Vetores Linearmente Dependentes"
   ]
  },
  {
   "cell_type": "code",
   "execution_count": 52,
   "metadata": {},
   "outputs": [
    {
     "name": "stdout",
     "output_type": "stream",
     "text": [
      "Vetores 1 são linearmente dependentes? False\n",
      "Vetores 2 são linearmente dependentes? True\n",
      "Vetores 3 são linearmente dependentes? True\n",
      "Vetores 4 são linearmente dependentes? False\n",
      "Vetores 5 são linearmente dependentes? True\n"
     ]
    }
   ],
   "source": [
    "import numpy as np\n",
    "def verificar_dependencia_linear(vetores):\n",
    "    matriz = np.array(vetores)\n",
    "\n",
    "    #SE OS VETORES ESTIVEREM EM COLUNA REMOVE A TRANSPOSTA\n",
    "    matriz = matriz.T\n",
    "\n",
    "    rank_matriz = np.linalg.matrix_rank(matriz)\n",
    "    num_vetores = matriz.shape[0]  \n",
    "\n",
    "    # Se o rank é menor que o número de vetores, eles são dependentes\n",
    "    return rank_matriz < num_vetores\n",
    "\n",
    "# Testando a função com alguns exemplos\n",
    "vetores1 = [\n",
    "    [1, 2, 3],\n",
    "    [4, 5, 6],\n",
    "    [7, 8, 10]\n",
    "]\n",
    "\n",
    "vetores2 = [\n",
    "    [1, 2, 3],\n",
    "    [2, 4, 6],\n",
    "    [3, 6, 9]\n",
    "]\n",
    "\n",
    "vetores3 = [\n",
    "    [1, 1, 1],\n",
    "    [2, 2, 2],\n",
    "    [3, 3, 3]\n",
    "]\n",
    "\n",
    "vetores4 = [\n",
    "    [1, 0],\n",
    "    [0, 1],\n",
    "    [1, 1]\n",
    "]\n",
    "\n",
    "\n",
    "\n",
    "vetor_bananas = [420, 27, 1.3]\n",
    "vetor_macas = [200, 25, 0.5]\n",
    "vetor_baça = [320, 26, 0.9]\n",
    "vetor5 = np.hstack((vetor_bananas, vetor_macas, vetor_baça))\n",
    "\n",
    "# Executando os testes\n",
    "print(\"Vetores 1 são linearmente dependentes?\", verificar_dependencia_linear(vetores1))\n",
    "print(\"Vetores 2 são linearmente dependentes?\", verificar_dependencia_linear(vetores2))\n",
    "print(\"Vetores 3 são linearmente dependentes?\", verificar_dependencia_linear(vetores3))\n",
    "print(\"Vetores 4 são linearmente dependentes?\", verificar_dependencia_linear(vetores4))\n",
    "print(\"Vetores 5 são linearmente dependentes?\", verificar_dependencia_linear(vetor5))\n",
    "\n",
    "\n"
   ]
  },
  {
   "cell_type": "markdown",
   "metadata": {},
   "source": [
    "# Combinação linear"
   ]
  },
  {
   "cell_type": "code",
   "execution_count": 35,
   "metadata": {},
   "outputs": [
    {
     "name": "stdout",
     "output_type": "stream",
     "text": [
      "A combinação linear é possível com coeficientes: x = 0.50, y = 0.50\n",
      "A combinação linear é possível com coeficientes: x = -5.00, y = 5.00\n",
      "A combinação linear é possível com coeficientes: x = -0.38, y = 3.46\n"
     ]
    }
   ],
   "source": [
    "import numpy as np\n",
    "\n",
    "def verificar_combinacao_linear(vetor_a, vetor_b, vetor_c):\n",
    "    \"\"\"\n",
    "    Verifica se o vetor_c pode ser escrito como uma combinação linear de vetor_a e vetor_b.\n",
    "    \n",
    "    :param vetor_a: Primeiro vetor (numpy array ou lista)\n",
    "    :param vetor_b: Segundo vetor (numpy array ou lista)\n",
    "    :param vetor_c: Vetor alvo (numpy array ou lista)\n",
    "    :return: Uma tupla (bool, coeficientes), onde bool indica se a combinação é possível,\n",
    "             e coeficientes são os fatores usados para combinar vetor_a e vetor_b.\n",
    "    \"\"\"\n",
    "    # Criando uma matriz com os vetores a e b como colunas\n",
    "    matriz = np.column_stack((vetor_a, vetor_b))  # A e B como colunas\n",
    "    vetor_c = np.array(vetor_c)  # Convertendo vetor_c para um array NumPy\n",
    "    \n",
    "    # Tentando resolver o sistema Ax = c usando least squares\n",
    "    coeficientes, residuals, rank, s = np.linalg.lstsq(matriz, vetor_c, rcond=None)\n",
    "    \n",
    "    # Calculando a combinação linear resultante\n",
    "    resultado_combinacao = np.dot(matriz, coeficientes)\n",
    "\n",
    "    # Verificando se o vetor_c está próximo da combinação resultante\n",
    "    if np.allclose(resultado_combinacao, vetor_c):\n",
    "        return True, coeficientes  # Retorna que a combinação é possível e os coeficientes\n",
    "    else:\n",
    "        return False, None  # Não é possível encontrar uma combinação linear\n",
    "\n",
    " \n",
    "# 1x+3y=10\n",
    "# 2x+4y=10\n",
    "# [1, 2] * x + [3, 4] * y = [10, 10]\n",
    "\n",
    "# Definindo os vetores de 2 dimensões\n",
    "vetor_a = [1, 2]    # Primeiro vetor\n",
    "vetor_b = [3, 4]    # Segundo vetor\n",
    "vetor_c = [10, 10]  # Terceiro vetor que queremos verificar\n",
    "\n",
    "# Verificando a combinação linear\n",
    "resultado, coeficientes = verificar_combinacao_linear(vetor_a, vetor_b, vetor_c)\n",
    "if resultado:\n",
    "    print(f\"A combinação linear é possível com coeficientes: x = {coeficientes[0]:.2f}, y = {coeficientes[1]:.2f}\")\n",
    "else:\n",
    "    print(\"A combinação linear não é possível.\")\n",
    "\n",
    "# Verificando outra combinação linear\n",
    "vetor_a = [1, 10]   # Primeiro vetor\n",
    "vetor_b = [3, 4]    # Segundo vetor\n",
    "vetor_c = [10, 10]  # Terceiro vetor que queremos verificar\n",
    "\n",
    "# Verificando a combinação linear\n",
    "resultado, coeficientes = verificar_combinacao_linear(vetor_a, vetor_b, vetor_c)\n",
    "if resultado:\n",
    "    print(f\"A combinação linear é possível com coeficientes: x = {coeficientes[0]:.2f}, y = {coeficientes[1]:.2f}\")\n",
    "else:\n",
    "    print(\"A combinação linear não é possível.\")\n"
   ]
  },
  {
   "cell_type": "code",
   "execution_count": 33,
   "metadata": {},
   "outputs": [
    {
     "name": "stdout",
     "output_type": "stream",
     "text": [
      "A combinação linear não é possível.\n",
      "A combinação linear é possível com coeficientes: x = -5.00, y = 5.00\n",
      "A combinação linear é possível com coeficientes: x = -0.38, y = 3.46\n"
     ]
    }
   ],
   "source": [
    "import numpy as np\n",
    "\n",
    "def verificar_combinacao_linear(vetor_a, vetor_b, vetor_c):\n",
    "    # Criando uma matriz com os vetores a e b como colunas\n",
    "    matriz = np.column_stack((vetor_a, vetor_b))  # A e B como colunas\n",
    "    vetor_c = np.array(vetor_c)  # Convertendo vetor_c para um array NumPy\n",
    "    a = np.linalg.solve(matriz, vetor_c)\n",
    "    return a\n",
    "# Definindo os vetores com 3 dimensões\n",
    "vetor_bananas = [420, 27, 1.3]\n",
    "vetor_macas = [200, 25, 0.5]\n",
    "vetor_baça = [310, 26, 0.9]\n",
    "\n",
    "# Verificando a combinação linear\n",
    "resultado, coeficientes = verificar_combinacao_linear(vetor_bananas, vetor_macas, vetor_baça)\n",
    "if resultado:\n",
    "    print(f\"A combinação linear é possível com coeficientes: x = {coeficientes[0]:.2f}, y = {coeficientes[1]:.2f}\")\n",
    "else:\n",
    "    print(\"A combinação linear não é possível.\")\n",
    "\n",
    "# Definindo os vetores de 2 dimensões\n",
    "vetor_a = [1, 2]    # Primeiro vetor\n",
    "vetor_b = [3, 4]    # Segundo vetor\n",
    "vetor_c = [10, 10]  # Terceiro vetor que queremos verificar\n",
    "\n",
    "# Verificando a combinação linear\n",
    "resultado, coeficientes = verificar_combinacao_linear(vetor_a, vetor_b, vetor_c)\n",
    "if resultado:\n",
    "    print(f\"A combinação linear é possível com coeficientes: x = {coeficientes[0]:.2f}, y = {coeficientes[1]:.2f}\")\n",
    "else:\n",
    "    print(\"A combinação linear não é possível.\")\n",
    "\n",
    "# Definindo os vetores de 2 dimensões\n",
    "vetor_a = [1, 10]   # Primeiro vetor\n",
    "vetor_b = [3, 4]    # Segundo vetor\n",
    "vetor_c = [10, 10]  # Terceiro vetor que queremos verificar\n",
    "\n",
    "# Verificando a combinação linear\n",
    "resultado, coeficientes = verificar_combinacao_linear(vetor_a, vetor_b, vetor_c)\n",
    "if resultado:\n",
    "    print(f\"A combinação linear é possível com coeficientes: x = {coeficientes[0]:.2f}, y = {coeficientes[1]:.2f}\")\n",
    "else:\n",
    "    print(\"A combinação linear não é possível.\")\n"
   ]
  }
 ],
 "metadata": {
  "kernelspec": {
   "display_name": "Python 3",
   "language": "python",
   "name": "python3"
  },
  "language_info": {
   "codemirror_mode": {
    "name": "ipython",
    "version": 3
   },
   "file_extension": ".py",
   "mimetype": "text/x-python",
   "name": "python",
   "nbconvert_exporter": "python",
   "pygments_lexer": "ipython3",
   "version": "3.10.10"
  }
 },
 "nbformat": 4,
 "nbformat_minor": 2
}
