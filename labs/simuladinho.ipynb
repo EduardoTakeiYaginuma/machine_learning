{
 "cells": [
  {
   "cell_type": "code",
   "execution_count": null,
   "metadata": {},
   "outputs": [],
   "source": []
  },
  {
   "cell_type": "markdown",
   "metadata": {},
   "source": [
    "\n",
    "## **Simulated Exam 2**\n",
    "\n",
    "### **Topic 1: Matrix Manipulation and Operations**\n",
    "\n",
    "**Question 1.1:**\n",
    "Compute the matrix multiplication of \\( A = \\begin{bmatrix} 2 & -1 \\\\ 0 & 1 \\end{bmatrix} \\) and \\( B = \\begin{bmatrix} 1 & 3 \\\\ 4 & 2 \\end{bmatrix} \\).\n",
    "\n",
    "**Question 1.2:**\n",
    "Determine whether the vectors \\( \\mathbf{v}_1 = [1, 2, 1] \\), \\( \\mathbf{v}_2 = [2, 4, 2] \\), and \\( \\mathbf{v}_3 = [3, 6, 3] \\) are linearly dependent.\n",
    "\n",
    "**Question 1.3:**\n",
    "Find the linear combination of \\( \\mathbf{v}_1 = [1, 0] \\) and \\( \\mathbf{v}_2 = [0, 1] \\) that results in the vector \\( \\mathbf{v} = [3, 5] \\).\n",
    "\n",
    "\n",
    "\n"
   ]
  },
  {
   "cell_type": "code",
   "execution_count": null,
   "metadata": {},
   "outputs": [],
   "source": []
  },
  {
   "cell_type": "markdown",
   "metadata": {},
   "source": [
    "\n",
    "### **Topic 2: Clustering**\n",
    "\n",
    "**Question 2.1:**\n",
    "What problems can arise when clustering data that has not been normalized?\n",
    "\n",
    "**Question 2.2:**\n",
    "Explain how the number of clusters \\( k \\) affects the silhouette score in clustering.\n",
    "\n",
    "**Question 2.3:**\n",
    "Describe the elbow method and how it's used to determine the optimal number of clusters.\n"
   ]
  },
  {
   "cell_type": "code",
   "execution_count": null,
   "metadata": {},
   "outputs": [],
   "source": []
  },
  {
   "cell_type": "markdown",
   "metadata": {},
   "source": [
    "\n",
    "### **Topic 3: Singular Value Decomposition (SVD)**\n",
    "\n",
    "**Question 3.1:**\n",
    "In SVD, what does the diagonal matrix \\( \\Sigma \\) represent, and why are its singular values important?\n",
    "\n",
    "**Question 3.2:**\n",
    "How can SVD be utilized for noise reduction in data?\n",
    "\n",
    "**Question 3.3:**\n",
    "Explain how cosine similarity can be computed using the matrices obtained from SVD.\n"
   ]
  },
  {
   "cell_type": "code",
   "execution_count": null,
   "metadata": {},
   "outputs": [],
   "source": []
  },
  {
   "cell_type": "markdown",
   "metadata": {},
   "source": [
    "\n",
    "### **Topic 4: Linear Regression Model**\n",
    "\n",
    "**Question 4.1:**\n",
    "Outline the steps to use scikit-learn's `LinearRegression` to fit a model to data and extract the coefficients.\n",
    "\n",
    "**Question 4.2:**\n",
    "How does adding polynomial features to your dataset help in linear regression?\n",
    "\n",
    "**Question 4.3:**\n",
    "Given \\( \\theta_0 = 1.5 \\) and \\( \\theta_1 = 0.75 \\), plot the regression line and interpret the model.\n",
    "\n"
   ]
  },
  {
   "cell_type": "code",
   "execution_count": null,
   "metadata": {},
   "outputs": [],
   "source": []
  },
  {
   "cell_type": "markdown",
   "metadata": {},
   "source": [
    "### **Topic 5: Data Manipulation and Model Evaluation**\n",
    "\n",
    "**Question 5.1:**\n",
    "What are the differences between normalization and standardization, and when should each be used?\n",
    "\n",
    "**Question 5.2:**\n",
    "Explain the importance of splitting a dataset into training and testing sets.\n",
    "\n",
    "**Question 5.3:**\n",
    "Describe how cross-validation helps in evaluating a machine learning model's performance.\n",
    "\n"
   ]
  },
  {
   "cell_type": "code",
   "execution_count": null,
   "metadata": {},
   "outputs": [],
   "source": []
  },
  {
   "cell_type": "markdown",
   "metadata": {},
   "source": [
    "### **Topic 6: Optimization**\n",
    "\n",
    "**Question 6.1:**\n",
    "Discuss how gradient descent can get stuck in local minima and strategies to avoid it.\n",
    "\n",
    "**Question 6.2:**\n",
    "Explain the consequences of setting a learning rate that's too high or too low in gradient descent.\n",
    "\n",
    "**Question 6.3:**\n",
    "Implement gradient descent for the function \\( f(x, y) = x^2 + y^2 \\) and discuss the convergence.\n",
    "\n",
    "---"
   ]
  },
  {
   "cell_type": "code",
   "execution_count": null,
   "metadata": {},
   "outputs": [],
   "source": []
  },
  {
   "cell_type": "markdown",
   "metadata": {},
   "source": [
    "\n",
    "## **Simulated Exam 3**\n",
    "\n",
    "### **Topic 1: Matrix Manipulation and Operations**\n",
    "\n",
    "**Question 1.1:**\n",
    "Calculate \\( 2A + B \\) where \\( A = \\begin{bmatrix} 3 & 0 \\\\ 0 & 3 \\end{bmatrix} \\) and \\( B = \\begin{bmatrix} 1 & 2 \\\\ 3 & 4 \\end{bmatrix} \\).\n",
    "\n",
    "**Question 1.2:**\n",
    "Are the vectors \\( \\mathbf{v}_1 = [1, -1, 0] \\), \\( \\mathbf{v}_2 = [2, -2, 0] \\), and \\( \\mathbf{v}_3 = [0, 0, 1] \\) linearly independent? Provide a justification.\n",
    "\n",
    "**Question 1.3:**\n",
    "Compute the dot product of \\( \\mathbf{u} = [1, 2, 3] \\) and \\( \\mathbf{v} = [4, 5, 6] \\).\n",
    "\n"
   ]
  },
  {
   "cell_type": "code",
   "execution_count": null,
   "metadata": {},
   "outputs": [],
   "source": []
  },
  {
   "cell_type": "markdown",
   "metadata": {},
   "source": [
    "### **Topic 2: Clustering**\n",
    "\n",
    "**Question 2.1:**\n",
    "Discuss the impact of feature scaling on the outcome of clustering algorithms like K-means.\n",
    "\n",
    "**Question 2.2:**\n",
    "Why does a high silhouette score indicate good clustering, and what is the ideal silhouette score?\n",
    "\n",
    "**Question 2.3:**\n",
    "Given overlapping clusters in a dataset, which clustering algorithm would be more appropriate than K-means and why?\n",
    "\n"
   ]
  },
  {
   "cell_type": "code",
   "execution_count": null,
   "metadata": {},
   "outputs": [],
   "source": []
  },
  {
   "cell_type": "markdown",
   "metadata": {},
   "source": [
    "### **Topic 3: Singular Value Decomposition (SVD)**\n",
    "\n",
    "**Question 3.1:**\n",
    "Explain the relationship between the left singular vectors in \\( U \\) and the original data matrix in SVD.\n",
    "\n",
    "**Question 3.2:**\n",
    "How do outliers affect the SVD of a dataset, and what can be done to mitigate their impact?\n",
    "\n",
    "**Question 3.3:**\n",
    "Describe how you would use cosine distance and SVD to measure similarity between documents.\n",
    "\n"
   ]
  },
  {
   "cell_type": "code",
   "execution_count": null,
   "metadata": {},
   "outputs": [],
   "source": []
  },
  {
   "cell_type": "markdown",
   "metadata": {},
   "source": [
    "### **Topic 4: Linear Regression Model**\n",
    "\n",
    "**Question 4.1:**\n",
    "How can you assess the significance of each coefficient in a linear regression model?\n",
    "\n",
    "**Question 4.2:**\n",
    "Explain how logarithmic transformations of features can improve a linear regression model.\n",
    "\n",
    "**Question 4.3:**\n",
    "Plot the residuals of a linear regression model and interpret what they indicate about the model's fit.\n",
    "\n"
   ]
  },
  {
   "cell_type": "code",
   "execution_count": null,
   "metadata": {},
   "outputs": [],
   "source": []
  },
  {
   "cell_type": "markdown",
   "metadata": {},
   "source": [
    "### **Topic 5: Data Manipulation and Model Evaluation**\n",
    "\n",
    "**Question 5.1:**\n",
    "How would you identify and handle multicollinearity in a dataset?\n",
    "\n",
    "**Question 5.2:**\n",
    "Explain when to use mean imputation versus median imputation for handling missing data.\n",
    "\n",
    "**Question 5.3:**\n",
    "Apart from accuracy, name and describe two other metrics used to evaluate classification models.\n"
   ]
  },
  {
   "cell_type": "code",
   "execution_count": null,
   "metadata": {},
   "outputs": [],
   "source": []
  },
  {
   "cell_type": "markdown",
   "metadata": {},
   "source": [
    "\n",
    "### **Topic 6: Optimization**\n",
    "\n",
    "**Question 6.1:**\n",
    "Explain how momentum in gradient descent helps overcome the problem of local minima.\n",
    "\n",
    "**Question 6.2:**\n",
    "Compare the performance of different optimization algorithms like SGD, Adam, and RMSprop.\n",
    "\n",
    "**Question 6.3:**\n",
    "Implement gradient descent with an adaptive learning rate for the function \\( f(x) = (x - 2)^2 \\) and discuss the results."
   ]
  },
  {
   "cell_type": "code",
   "execution_count": null,
   "metadata": {},
   "outputs": [],
   "source": []
  }
 ],
 "metadata": {
  "language_info": {
   "name": "python"
  }
 },
 "nbformat": 4,
 "nbformat_minor": 2
}
